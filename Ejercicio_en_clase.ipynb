{
  "nbformat": 4,
  "nbformat_minor": 0,
  "metadata": {
    "colab": {
      "name": "Ejercicio en clase.ipynb",
      "provenance": [],
      "authorship_tag": "ABX9TyPaldfWiwpfuxNCpK6rJuhH",
      "include_colab_link": true
    },
    "kernelspec": {
      "name": "python3",
      "display_name": "Python 3"
    },
    "language_info": {
      "name": "python"
    }
  },
  "cells": [
    {
      "cell_type": "markdown",
      "metadata": {
        "id": "view-in-github",
        "colab_type": "text"
      },
      "source": [
        "<a href=\"https://colab.research.google.com/github/SergioSegura13/CyP/blob/main/Ejercicio_en_clase.ipynb\" target=\"_parent\"><img src=\"https://colab.research.google.com/assets/colab-badge.svg\" alt=\"Open In Colab\"/></a>"
      ]
    },
    {
      "cell_type": "markdown",
      "metadata": {
        "id": "G9y0_xrqOSM9"
      },
      "source": [
        "### **Ejercicio**"
      ]
    },
    {
      "cell_type": "code",
      "metadata": {
        "colab": {
          "base_uri": "https://localhost:8080/"
        },
        "id": "LUPvePq9OL8y",
        "outputId": "88a80574-1513-415b-fe33-7572b260f3ae"
      },
      "source": [
        "a=int(input(\"Dame un valor: \"))\n",
        "b=int(input(\"Dame otro valor: \"))\n",
        "c=int(input(\"Dame otro valor: \"))\n",
        "if a>b:\n",
        "    if a>c:\n",
        "        if b>c:\n",
        "            print(f\"{a}, {b}, {c}\")\n",
        "        else:\n",
        "            print(f\"{a}, {c}, {b}\")\n",
        "    else:\n",
        "        print(f\"{c}, {a}, {b}\")\n",
        "else:\n",
        "    if b>c:\n",
        "        if a>c:\n",
        "            print(f\"{b}, {a}, {c}\")\n",
        "        else:\n",
        "            print(f\"{b}, {c}, {a}\")\n",
        "    else:\n",
        "        print(f\"{c}, {b}, {a}\")"
      ],
      "execution_count": 1,
      "outputs": [
        {
          "output_type": "stream",
          "name": "stdout",
          "text": [
            "Dame un valor: 15\n",
            "Dame otro valor: 21\n",
            "Dame otro valor: 6\n",
            "21, 15, 6\n"
          ]
        }
      ]
    },
    {
      "cell_type": "markdown",
      "metadata": {
        "id": "uCk0EmbWOPHl"
      },
      "source": [
        ""
      ]
    }
  ]
}