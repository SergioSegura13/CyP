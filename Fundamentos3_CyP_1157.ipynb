{
  "nbformat": 4,
  "nbformat_minor": 0,
  "metadata": {
    "colab": {
      "name": "Fundamentos3_CyP_1157.ipynb",
      "provenance": [],
      "authorship_tag": "ABX9TyNwXS6BQHYO4QXuPCGdF5rX",
      "include_colab_link": true
    },
    "kernelspec": {
      "name": "python3",
      "display_name": "Python 3"
    },
    "language_info": {
      "name": "python"
    }
  },
  "cells": [
    {
      "cell_type": "markdown",
      "metadata": {
        "id": "view-in-github",
        "colab_type": "text"
      },
      "source": [
        "<a href=\"https://colab.research.google.com/github/SergioSegura13/CyP/blob/main/Fundamentos3_CyP_1157.ipynb\" target=\"_parent\"><img src=\"https://colab.research.google.com/assets/colab-badge.svg\" alt=\"Open In Colab\"/></a>"
      ]
    },
    {
      "cell_type": "markdown",
      "metadata": {
        "id": "yg7PGdmpRlmT"
      },
      "source": [
        "### **25/11/21**"
      ]
    },
    {
      "cell_type": "code",
      "metadata": {
        "colab": {
          "base_uri": "https://localhost:8080/"
        },
        "id": "kRM969lAR3Ba",
        "outputId": "046fb05d-306d-47ec-f91c-7c491e59d47a"
      },
      "source": [
        "for x in range(1, 20, 1):\n",
        "    print(x)\n",
        "print(\"Fin del programa\") \n",
        "\n",
        "for x in range(19, 0, -1):\n",
        "    print(x)\n",
        "print(\"Fin del programa\") "
      ],
      "execution_count": null,
      "outputs": [
        {
          "output_type": "stream",
          "name": "stdout",
          "text": [
            "1\n",
            "2\n",
            "3\n",
            "4\n",
            "5\n",
            "6\n",
            "7\n",
            "8\n",
            "9\n",
            "10\n",
            "11\n",
            "12\n",
            "13\n",
            "14\n",
            "15\n",
            "16\n",
            "17\n",
            "18\n",
            "19\n",
            "Fin del programa\n",
            "19\n",
            "18\n",
            "17\n",
            "16\n",
            "15\n",
            "14\n",
            "13\n",
            "12\n",
            "11\n",
            "10\n",
            "9\n",
            "8\n",
            "7\n",
            "6\n",
            "5\n",
            "4\n",
            "3\n",
            "2\n",
            "1\n",
            "Fin del programa\n"
          ]
        }
      ]
    },
    {
      "cell_type": "code",
      "metadata": {
        "colab": {
          "base_uri": "https://localhost:8080/"
        },
        "id": "pV9Sji7VRcfB",
        "outputId": "75a1fc33-dd1a-4aa4-a19f-c238257e64d1"
      },
      "source": [
        "n=7\n",
        "for i in range(1,11,1):\n",
        "    x=n*i\n",
        "    print(f\"{n} x {i} = {x}\")"
      ],
      "execution_count": null,
      "outputs": [
        {
          "output_type": "stream",
          "name": "stdout",
          "text": [
            "7 x 1 = 7\n",
            "7 x 2 = 14\n",
            "7 x 3 = 21\n",
            "7 x 4 = 28\n",
            "7 x 5 = 35\n",
            "7 x 6 = 42\n",
            "7 x 7 = 49\n",
            "7 x 8 = 56\n",
            "7 x 9 = 63\n",
            "7 x 10 = 70\n"
          ]
        }
      ]
    },
    {
      "cell_type": "code",
      "metadata": {
        "colab": {
          "base_uri": "https://localhost:8080/"
        },
        "id": "WIYk-57sV3i9",
        "outputId": "3f2e416d-5a51-4558-fabd-62aae8e2b147"
      },
      "source": [
        "N=int(input(\"Dame un valor entre el 1 y 5: \"))\n",
        "if N<1 or N>5:\n",
        "    print(\"Tu numero no esta dentro del parametro, Intenta de nuevo\")\n",
        "M=int(input(f\"Dame un valor entre el {N} y 10: \"))\n",
        "if M<2 or M>10:\n",
        "    print(\"Tu numero no esta dentro del parametro, Intenta de nuevo\")\n",
        "for J in range(N,M+1):\n",
        "    for I in range(1,11):\n",
        "        x=J*I\n",
        "        print(f\"{J} x {I} = {x}\")\n",
        "    print(\"\\n\")"
      ],
      "execution_count": null,
      "outputs": [
        {
          "output_type": "stream",
          "name": "stdout",
          "text": [
            "Dame un valor entre el 1 y 5: 20\n",
            "Tu numero no esta dentro del parametro, Intenta de nuevo\n",
            "Dame un valor entre el 20 y 10: 1\n",
            "Tu numero no esta dentro del parametro, Intenta de nuevo\n"
          ]
        }
      ]
    },
    {
      "cell_type": "code",
      "metadata": {
        "colab": {
          "base_uri": "https://localhost:8080/"
        },
        "id": "tdN6AoUVXxkx",
        "outputId": "f89d3bdb-e031-43cf-81fb-f1d3eb7ae246"
      },
      "source": [
        "numeros = [ x for x in range(10,101,10) ]\n",
        "print(numeros)"
      ],
      "execution_count": null,
      "outputs": [
        {
          "output_type": "stream",
          "name": "stdout",
          "text": [
            "[10, 20, 30, 40, 50, 60, 70, 80, 90, 100]\n"
          ]
        }
      ]
    },
    {
      "cell_type": "code",
      "metadata": {
        "colab": {
          "base_uri": "https://localhost:8080/"
        },
        "id": "7terhQI5bEOB",
        "outputId": "1e96b350-ddd1-4a87-a3b8-a184dacd72fb"
      },
      "source": [
        "SUM = 0\n",
        "edades = [0 for x in range(5)]\n",
        "for x in range(5):\n",
        "    edades[x]= int(input(\"Introduce una edad: \"))\n",
        "    SUM = SUM + edades[x]\n",
        "    PROM = SUM/5\n",
        "print(edades)\n",
        "print(\"El promedio de edades es: \", PROM)"
      ],
      "execution_count": null,
      "outputs": [
        {
          "output_type": "stream",
          "name": "stdout",
          "text": [
            "Introduce una edad: 18\n",
            "Introduce una edad: 18\n",
            "Introduce una edad: 18\n",
            "Introduce una edad: 18\n",
            "Introduce una edad: 18\n",
            "[18, 18, 18, 18, 18]\n",
            "El promedio de edades es:  18.0\n"
          ]
        }
      ]
    },
    {
      "cell_type": "code",
      "metadata": {
        "colab": {
          "base_uri": "https://localhost:8080/"
        },
        "id": "wEkY-Y9wdtdf",
        "outputId": "1af045f6-052a-4f9b-d509-ab9e1ba7a8d2"
      },
      "source": [
        "import random\n",
        "print(random.random())\n",
        "print(random.uniform(5,11))\n",
        "val = round(random.uniform(5,11) , 2)\n",
        "print(val)\n",
        "\n",
        "valores = [round(random.uniform(5,11),2) for x in range(20)]\n",
        "print(valores)"
      ],
      "execution_count": null,
      "outputs": [
        {
          "output_type": "stream",
          "name": "stdout",
          "text": [
            "0.7547728356393821\n",
            "9.300160724245721\n",
            "6.04\n",
            "[9.67, 7.39, 9.31, 9.53, 9.32, 10.63, 7.39, 10.6, 5.26, 5.35, 6.15, 6.04, 7.8, 5.33, 7.14, 5.76, 9.06, 9.54, 6.62, 9.3]\n"
          ]
        }
      ]
    },
    {
      "cell_type": "markdown",
      "metadata": {
        "id": "AMXiohvgOBkw"
      },
      "source": [
        "### **30/11/21**"
      ]
    },
    {
      "cell_type": "code",
      "metadata": {
        "colab": {
          "base_uri": "https://localhost:8080/"
        },
        "id": "BDIbVWYQOAxy",
        "outputId": "11252871-dc88-414d-dd83-b6b2b2e3a648"
      },
      "source": [
        "valor = int(input(\"Introduce un numero entero positivo\"))\n",
        "contador = 0\n",
        "if valor > 0:\n",
        "    while valor > 1.0:\n",
        "        valor = valor/2\n",
        "        print( round(valor,2) )\n",
        "        contador += 1\n",
        "else:\n",
        " print(\"El numero es negativo, intenta de nuevo\")\n",
        "print(\"Total de interacciones=\", contador)\n"
      ],
      "execution_count": 2,
      "outputs": [
        {
          "output_type": "stream",
          "name": "stdout",
          "text": [
            "Introduce un numero entero positivo4\n",
            "2.0\n",
            "1.0\n",
            "Total de interacciones= 2\n"
          ]
        }
      ]
    },
    {
      "cell_type": "code",
      "metadata": {
        "colab": {
          "base_uri": "https://localhost:8080/"
        },
        "id": "oPPvppaHQ8Oa",
        "outputId": "d2d38bd5-2349-47c8-8174-5637087dffe8"
      },
      "source": [
        "valor = int(input(\"Dame un valor entero:\"))\n",
        "\n",
        "while valor !=0:\n",
        "    print(valor)\n",
        "    valor = int(input(\"Dame un valor entero:\"))\n",
        "    print(\"Fin del programa\")"
      ],
      "execution_count": 5,
      "outputs": [
        {
          "output_type": "stream",
          "name": "stdout",
          "text": [
            "Dame un valor entero:8\n",
            "8\n",
            "Dame un valor entero:5\n",
            "Fin del programa\n",
            "5\n",
            "Dame un valor entero:1\n",
            "Fin del programa\n",
            "1\n",
            "Dame un valor entero:0\n",
            "Fin del programa\n"
          ]
        }
      ]
    },
    {
      "cell_type": "code",
      "metadata": {
        "colab": {
          "base_uri": "https://localhost:8080/"
        },
        "id": "M--1FTo1RnjZ",
        "outputId": "7965d2c2-56d6-4f9a-fc35-d754a07bc1a6"
      },
      "source": [
        "valor = int(input(\"Dame un valor entero:\"))\n",
        "\n",
        "while valor !=0:\n",
        "    print(valor)\n",
        "    valor = int(input(\"Otras cosas\"))\n",
        "    print(\"Fin del programa\")"
      ],
      "execution_count": 6,
      "outputs": [
        {
          "output_type": "stream",
          "name": "stdout",
          "text": [
            "Dame un valor entero:2\n",
            "2\n",
            "Otras cosas0\n",
            "Fin del programa\n"
          ]
        }
      ]
    },
    {
      "cell_type": "code",
      "metadata": {
        "colab": {
          "base_uri": "https://localhost:8080/"
        },
        "id": "94ul-n0HSBfp",
        "outputId": "f5d71718-98e3-4644-ce83-7292fc6c8f4d"
      },
      "source": [
        "comprobar = True\n",
        "\n",
        "while comprobar == True:\n",
        "    n= int(input(\"Ingrese un numero entero positivo:\"))\n",
        "\n",
        "    if n > 0:\n",
        "\n",
        "        for i in range (1, 11):\n",
        "            print(n, \"por\", i, \"es igual a:\", n*i)\n",
        "\n",
        "    comprobar = False\n",
        "\n",
        "else:\n",
        "    print(\"El numero ingresado no es correcto\")"
      ],
      "execution_count": 8,
      "outputs": [
        {
          "output_type": "stream",
          "name": "stdout",
          "text": [
            "Ingrese un numero entero positivo:2\n",
            "2 por 1 es igual a: 2\n",
            "2 por 2 es igual a: 4\n",
            "2 por 3 es igual a: 6\n",
            "2 por 4 es igual a: 8\n",
            "2 por 5 es igual a: 10\n",
            "2 por 6 es igual a: 12\n",
            "2 por 7 es igual a: 14\n",
            "2 por 8 es igual a: 16\n",
            "2 por 9 es igual a: 18\n",
            "2 por 10 es igual a: 20\n",
            "El numero ingresado no es correcto\n"
          ]
        }
      ]
    },
    {
      "cell_type": "code",
      "metadata": {
        "colab": {
          "base_uri": "https://localhost:8080/"
        },
        "id": "J90hui-WTdXb",
        "outputId": "64e6d510-5c89-4921-be66-76d5036e6817"
      },
      "source": [
        "comprobar = True\n",
        "\n",
        "while comprobar == True:\n",
        "    n= int(input(\"Ingrese un numero entero positivo:\"))\n",
        "\n",
        "    if n > 0:\n",
        "\n",
        "        i=1\n",
        "\n",
        "        while i < 11:\n",
        "            print(n, \"por\", i, \"es igual a:\", n*i)\n",
        "\n",
        "            i+=1\n",
        "\n",
        "    comprobar = False\n",
        "\n",
        "else:\n",
        "    print(\"El numero ingresado no es correcto, intente de nuevo\")"
      ],
      "execution_count": 10,
      "outputs": [
        {
          "output_type": "stream",
          "name": "stdout",
          "text": [
            "Ingrese un numero entero positivo:2\n",
            "2 por 1 es igual a: 2\n",
            "2 por 2 es igual a: 4\n",
            "2 por 3 es igual a: 6\n",
            "2 por 4 es igual a: 8\n",
            "2 por 5 es igual a: 10\n",
            "2 por 6 es igual a: 12\n",
            "2 por 7 es igual a: 14\n",
            "2 por 8 es igual a: 16\n",
            "2 por 9 es igual a: 18\n",
            "2 por 10 es igual a: 20\n",
            "El numero ingresado no es correcto, intente de nuevo\n"
          ]
        }
      ]
    },
    {
      "cell_type": "code",
      "metadata": {
        "id": "7F0QqBX0URfc"
      },
      "source": [
        ""
      ],
      "execution_count": null,
      "outputs": []
    },
    {
      "cell_type": "code",
      "metadata": {
        "colab": {
          "base_uri": "https://localhost:8080/"
        },
        "id": "Mnpaq2h8URgZ",
        "outputId": "8286e77e-5ac1-438c-b333-24e40dc3846a"
      },
      "source": [
        "comprobar = True\n",
        "\n",
        "while comprobar == True:\n",
        "    n= int(input(\"Ingrese un numero entero positivo:\"))\n",
        "\n",
        "    if n > 0:\n",
        "\n",
        "        comprobar = False\n",
        "\n",
        "        resultado = 0 \n",
        "\n",
        "        for i in range (1, n+1):\n",
        "            resultado += (1/i)\n",
        "\n",
        "        print(\"El resultado de la serie es:\", resultado)\n",
        "\n",
        "else:\n",
        "    print(\"El numero ingresado no es correcto, intente de nuevo\")"
      ],
      "execution_count": 13,
      "outputs": [
        {
          "output_type": "stream",
          "name": "stdout",
          "text": [
            "Ingrese un numero entero positivo:5\n",
            "El resultado de la serie es: 2.283333333333333\n",
            "El numero ingresado no es correcto, intente de nuevo\n"
          ]
        }
      ]
    }
  ]
}