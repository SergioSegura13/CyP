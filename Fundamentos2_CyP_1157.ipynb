{
  "nbformat": 4,
  "nbformat_minor": 0,
  "metadata": {
    "colab": {
      "name": "Fundamentos2_CyP_1157.ipynb",
      "provenance": [],
      "collapsed_sections": [],
      "authorship_tag": "ABX9TyNwxDispfHuSTobHPjgPANU",
      "include_colab_link": true
    },
    "kernelspec": {
      "name": "python3",
      "display_name": "Python 3"
    },
    "language_info": {
      "name": "python"
    }
  },
  "cells": [
    {
      "cell_type": "markdown",
      "metadata": {
        "id": "view-in-github",
        "colab_type": "text"
      },
      "source": [
        "<a href=\"https://colab.research.google.com/github/SergioSegura13/CyP/blob/main/Fundamentos2_CyP_1157.ipynb\" target=\"_parent\"><img src=\"https://colab.research.google.com/assets/colab-badge.svg\" alt=\"Open In Colab\"/></a>"
      ]
    },
    {
      "cell_type": "code",
      "metadata": {
        "colab": {
          "base_uri": "https://localhost:8080/"
        },
        "id": "cIEC3eqiFoB6",
        "outputId": "f99dacc6-c9a6-4140-b57d-dad0ae398b45"
      },
      "source": [
        "numeros=[10, 5, 2, 3, 1]\n",
        "print(numeros)\n",
        "\n",
        "numeros2= list()\n",
        "numeros2.append(10)\n",
        "numeros2.append(5)\n",
        "numeros2.append(2)\n",
        "numeros2.append(3)\n",
        "numeros2.append(1)\n",
        "print(numeros2)"
      ],
      "execution_count": null,
      "outputs": [
        {
          "output_type": "stream",
          "name": "stdout",
          "text": [
            "[10, 5, 2, 3, 1]\n",
            "[10, 5, 2, 3, 1]\n"
          ]
        }
      ]
    },
    {
      "cell_type": "code",
      "metadata": {
        "colab": {
          "base_uri": "https://localhost:8080/"
        },
        "id": "lx-s_BDKTClk",
        "outputId": "65b32ffa-01a2-4fca-c665-dff1d2ecba8b"
      },
      "source": [
        "cosas=[12, 2, True, \"Jose\", 1.57, [\"Pera\", \"Kiwi\", \"Uva\"]]\n",
        "print(cosas)\n",
        "print(cosas[1])\n",
        "print(cosas[4])\n",
        "print(cosas[5])\n",
        "print(cosas[5][1])\n",
        "print(cosas[3][1:3:])\n",
        "cosas[3] = cosas[3].upper()\n",
        "print(cosas)"
      ],
      "execution_count": null,
      "outputs": [
        {
          "output_type": "stream",
          "name": "stdout",
          "text": [
            "[12, 2, True, 'Jose', 1.57, ['Pera', 'Kiwi', 'Uva']]\n",
            "2\n",
            "1.57\n",
            "['Pera', 'Kiwi', 'Uva']\n",
            "Kiwi\n",
            "os\n",
            "[12, 2, True, 'JOSE', 1.57, ['Pera', 'Kiwi', 'Uva']]\n"
          ]
        }
      ]
    },
    {
      "cell_type": "code",
      "metadata": {
        "colab": {
          "base_uri": "https://localhost:8080/"
        },
        "id": "Alc1XBkvAtyc",
        "outputId": "b28041a5-b484-4276-f645-2106bce1475b"
      },
      "source": [
        "numeros = [1,2,3,4,5,6,7,8,9,10,11]\n",
        "print(numeros)\n",
        "\n",
        "print(numeros [3:8])\n",
        "print(numeros [8:10])\n",
        "print(numeros [-3:-1])\n",
        "print(numeros [: : -1])"
      ],
      "execution_count": null,
      "outputs": [
        {
          "output_type": "stream",
          "name": "stdout",
          "text": [
            "[1, 2, 3, 4, 5, 6, 7, 8, 9, 10, 11]\n",
            "[4, 5, 6, 7, 8]\n",
            "[9, 10]\n",
            "[9, 10]\n",
            "[11, 10, 9, 8, 7, 6, 5, 4, 3, 2, 1]\n"
          ]
        }
      ]
    },
    {
      "cell_type": "code",
      "metadata": {
        "colab": {
          "base_uri": "https://localhost:8080/"
        },
        "id": "FjkU2PxPH6z9",
        "outputId": "96f4aa56-facc-4212-98ee-66da6300684b"
      },
      "source": [
        "numeros = [ x for x in range(50, 101)] \n",
        "print (numeros)\n"
      ],
      "execution_count": null,
      "outputs": [
        {
          "output_type": "stream",
          "name": "stdout",
          "text": [
            "[50, 51, 52, 53, 54, 55, 56, 57, 58, 59, 60, 61, 62, 63, 64, 65, 66, 67, 68, 69, 70, 71, 72, 73, 74, 75, 76, 77, 78, 79, 80, 81, 82, 83, 84, 85, 86, 87, 88, 89, 90, 91, 92, 93, 94, 95, 96, 97, 98, 99, 100]\n"
          ]
        }
      ]
    },
    {
      "cell_type": "code",
      "metadata": {
        "colab": {
          "base_uri": "https://localhost:8080/"
        },
        "id": "_lR8GzTLRWd4",
        "outputId": "4444ef85-cad9-4f87-b273-600cc87642f3"
      },
      "source": [
        "numeros = [4,1,15,8,22,34,50]\n",
        "print(numeros)\n",
        "numeros.append(99)\n",
        "print(numeros)\n",
        "numeros= []\n",
        "print(numeros)\n",
        "\n",
        "frutas = [\"Uvas\", \"Kiwi\", \"Manzana\"]\n",
        "copia = frutas\n",
        "print(frutas)\n",
        "print(copia)\n",
        "frutas.append(\"Naranja\")\n",
        "print(frutas)\n",
        "print(copia)\n",
        "\n",
        "colores = [\"Rojo\", \"Azul\", \"Blanco\"]\n",
        "copia2 = colores.copy()\n",
        "print(colores)\n",
        "print(copia2)\n",
        "colores.append(\"Verde\")\n",
        "print(colores)\n",
        "print(copia2)\n",
        "\n",
        "nombres = [\"Jose\", \"Pedro\", \"Karina\"]\n",
        "otrosnombres = [\"Josue\", \"Diana\", \"Dalia\"]\n",
        "print(nombres)\n",
        "print(otrosnombres)\n",
        "nombres = nombres + otrosnombres\n",
        "print(nombres)\n",
        "print(otrosnombres)\n",
        "\n",
        "otrosnombres.extend([\"Jesus\", \"Maria\", \"Jose\"])\n",
        "print(otrosnombres)\n",
        "print(\"Jesus esta en la posicion\", otrosnombres.index(\"Jesus\"))\n",
        "otrosnombres.insert(4, \"Espiritu Santo\")\n",
        "print(otrosnombres)\n",
        "\n",
        "resultado= otrosnombres.pop()\n",
        "print(otrosnombres)\n",
        "print(resultado)"
      ],
      "execution_count": null,
      "outputs": [
        {
          "output_type": "stream",
          "name": "stdout",
          "text": [
            "[4, 1, 15, 8, 22, 34, 50]\n",
            "[4, 1, 15, 8, 22, 34, 50, 99]\n",
            "[]\n",
            "['Uvas', 'Kiwi', 'Manzana']\n",
            "['Uvas', 'Kiwi', 'Manzana']\n",
            "['Uvas', 'Kiwi', 'Manzana', 'Naranja']\n",
            "['Uvas', 'Kiwi', 'Manzana', 'Naranja']\n",
            "['Rojo', 'Azul', 'Blanco']\n",
            "['Rojo', 'Azul', 'Blanco']\n",
            "['Rojo', 'Azul', 'Blanco', 'Verde']\n",
            "['Rojo', 'Azul', 'Blanco']\n",
            "['Jose', 'Pedro', 'Karina']\n",
            "['Josue', 'Diana', 'Dalia']\n",
            "['Jose', 'Pedro', 'Karina', 'Josue', 'Diana', 'Dalia']\n",
            "['Josue', 'Diana', 'Dalia']\n",
            "['Josue', 'Diana', 'Dalia', 'Jesus', 'Maria', 'Jose']\n",
            "Jesus esta en la posicion 3\n",
            "['Josue', 'Diana', 'Dalia', 'Jesus', 'Espiritu Santo', 'Maria', 'Jose']\n",
            "['Josue', 'Diana', 'Dalia', 'Jesus', 'Espiritu Santo', 'Maria']\n",
            "Jose\n"
          ]
        }
      ]
    },
    {
      "cell_type": "markdown",
      "metadata": {
        "id": "BrgSxmjUIir7"
      },
      "source": [
        ""
      ]
    },
    {
      "cell_type": "markdown",
      "metadata": {
        "id": "MZcMQzHYx7O3"
      },
      "source": [
        "## ***9/11/2021***"
      ]
    },
    {
      "cell_type": "code",
      "metadata": {
        "id": "dCJRoBfXSLD0",
        "colab": {
          "base_uri": "https://localhost:8080/"
        },
        "outputId": "eac4fc04-4929-4a8a-92c9-c94e273337b8"
      },
      "source": [
        "info = (\"Juan23\", \"dios1234\", \"123.232.1.12\")\n",
        "print(info)\n",
        "print(info [1])\n",
        "\n",
        "\n",
        "numeros= (0,1,2,3,4,5,6,7,8,9,10,11,12,13,14,15)\n",
        "print(numeros)\n",
        "print(numeros[5:11])\n",
        "\n",
        "cosas=(info, numeros)\n",
        "print(cosas)\n",
        "print(cosas[1][5:11:1])\n",
        "print(cosas[0][2][4:7])\n",
        "print(cosas[0][2][-7:-11])"
      ],
      "execution_count": null,
      "outputs": [
        {
          "output_type": "stream",
          "name": "stdout",
          "text": [
            "('Juan23', 'dios1234', '123.232.1.12')\n",
            "dios1234\n",
            "(0, 1, 2, 3, 4, 5, 6, 7, 8, 9, 10, 11, 12, 13, 14, 15)\n",
            "(5, 6, 7, 8, 9, 10)\n",
            "(('Juan23', 'dios1234', '123.232.1.12'), (0, 1, 2, 3, 4, 5, 6, 7, 8, 9, 10, 11, 12, 13, 14, 15))\n",
            "(5, 6, 7, 8, 9, 10)\n",
            "232\n",
            "\n"
          ]
        }
      ]
    },
    {
      "cell_type": "code",
      "metadata": {
        "colab": {
          "base_uri": "https://localhost:8080/"
        },
        "id": "6_KqoaNP97Za",
        "outputId": "d8192a1b-4137-4230-e237-0f35c2073bf0"
      },
      "source": [
        "alumno= {\"nombre\" : \"Jose\"}\n",
        "print(alumno)\n",
        "print(alumno[\"nombre\"])\n",
        "alumno={\"nombre\" : \"Jose\" , \"nc\":\"2129229292\", \"edad\":18 }\n",
        "print(\"Edad del alumno=\", alumno[\"edad\"])\n",
        "print(alumno[\"nombre\"].upper())\n",
        "print(alumno)\n",
        "\n",
        "print(\"Alumno2:\")\n",
        "alumno2= dict()\n",
        "alumno2[\"nombre\"]= \"jose\"\n",
        "print(alumno2)\n",
        "alumno2[\"nc\"]=\"2129229292\"\n",
        "alumno2[\"edad\"]= 18\n",
        "print(alumno2)\n",
        "alumno2[\"edad\"]= alumno2[\"edad\"] +1\n",
        "print(alumno2)\n"
      ],
      "execution_count": null,
      "outputs": [
        {
          "output_type": "stream",
          "name": "stdout",
          "text": [
            "{'nombre': 'Jose'}\n",
            "Jose\n",
            "Edad del alumno= 18\n",
            "JOSE\n",
            "{'nombre': 'Jose', 'nc': '2129229292', 'edad': 18}\n",
            "Alumno2:\n",
            "{'nombre': 'jose'}\n",
            "{'nombre': 'jose', 'nc': '2129229292', 'edad': 18}\n",
            "{'nombre': 'jose', 'nc': '2129229292', 'edad': 19}\n"
          ]
        }
      ]
    },
    {
      "cell_type": "code",
      "metadata": {
        "colab": {
          "base_uri": "https://localhost:8080/"
        },
        "id": "2ayPO4pmEEhn",
        "outputId": "fb97a0a1-11a4-4079-b623-316fa1a31c7d"
      },
      "source": [
        "cliente = { \"id\":\"CT2121\" ,\n",
        "            \"nombre\" : {\n",
        "                \"nombres\" : [\"José\", \"Eduardo\"],\n",
        "                \"paterno\" : \"Pedroza\",\n",
        "                \"materno\" : \"Rosales\"\n",
        "            } ,\n",
        "            \"telefonos\" : {\n",
        "                \"casa\" : \"55-6632-4234\",\n",
        "                \"trabajo\":\"55-443-3232\" ,\n",
        "                \"celular\":\"044-55-234234\"\n",
        "            } ,\n",
        "           \"productos\":{\n",
        "               \"ahorro\":{ \"numero_cuenta\":\"7788\" , \"ahorro\": 2500.5 },\n",
        "               \"tarjetas\":[\n",
        "                            {\"tipo\":\"debito\" , \"saldo\" : 10000.5  },\n",
        "                            {\"tipo\":\"credito preferente\" , \"limite\":250000.5},\n",
        "                            {\"tipo\":\"lite\" , \"limite\": 15000.5 }\n",
        "                ]\n",
        "           },\n",
        "           \"direccion\":{\n",
        "               \"calle\":\"Av. central\",\n",
        "               \"numero\" : 1245,\n",
        "               \"colonia\" :\"Impulsora\",\n",
        "               \"delegacion\" :\"neza\",\n",
        "               \"estado\" : {\n",
        "                            \"clave\" : 15,\n",
        "                           \"nombre_corto\":\"EdoMex\",\n",
        "                           \"nombre\": \"Estado de México\"\n",
        "                            }\n",
        "           }\n",
        "\n",
        "            }\n",
        "print( cliente[\"telefonos\"][\"casa\"] )\n",
        "print(cliente)"
      ],
      "execution_count": null,
      "outputs": [
        {
          "output_type": "stream",
          "name": "stdout",
          "text": [
            "55-6632-4234\n",
            "{'id': 'CT2121', 'nombre': {'nombres': ['José', 'Eduardo'], 'paterno': 'Pedroza', 'materno': 'Rosales'}, 'telefonos': {'casa': '55-6632-4234', 'trabajo': '55-443-3232', 'celular': '044-55-234234'}, 'productos': {'ahorro': {'numero_cuenta': '7788', 'ahorro': 2500.5}, 'tarjetas': [{'tipo': 'debito', 'saldo': 10000.5}, {'tipo': 'credito preferente', 'limite': 250000.5}, {'tipo': 'lite', 'limite': 15000.5}]}, 'direccion': {'calle': 'Av. central', 'numero': 1245, 'colonia': 'Impulsora', 'delegacion': 'neza', 'estado': {'clave': 15, 'nombre_corto': 'EdoMex', 'nombre': 'Estado de México'}}}\n"
          ]
        }
      ]
    },
    {
      "cell_type": "markdown",
      "metadata": {
        "id": "WKgGuRCIXB5Y"
      },
      "source": [
        "### **11/11/21**"
      ]
    },
    {
      "cell_type": "code",
      "metadata": {
        "colab": {
          "base_uri": "https://localhost:8080/"
        },
        "id": "EsLpGPloW_FR",
        "outputId": "7bedc816-ae53-4817-89b0-2baab4cdc3d2"
      },
      "source": [
        "edad= int(input(\"Dame tu edad:\"))\n",
        "print(f\"Tecleaste {edad} años\")\n",
        "if edad >= 18:\n",
        "  print(\"ERES MAYOR DE EDAD\")\n",
        "print(\"Fin del programa\")"
      ],
      "execution_count": null,
      "outputs": [
        {
          "output_type": "stream",
          "name": "stdout",
          "text": [
            "Dame tu edad:18\n",
            "Tecleaste 18 años\n",
            "ERES MAYOR DE EDAD\n",
            "Fin del programa\n"
          ]
        }
      ]
    },
    {
      "cell_type": "code",
      "metadata": {
        "colab": {
          "base_uri": "https://localhost:8080/"
        },
        "id": "UmJPxMiSf5jh",
        "outputId": "2545b0a4-f473-4cdf-b4b4-4d76bae318cd"
      },
      "source": [
        "SUE = float(input(\"Escribe el sueldo: \"))\n",
        "AUM= 0\n",
        "MSUE= 0\n",
        "\n",
        "if SUE < 1000:\n",
        "  AUM = SUE* 0.15\n",
        "  MSUE = SUE + AUM\n",
        "  print(MSUE)"
      ],
      "execution_count": null,
      "outputs": [
        {
          "output_type": "stream",
          "name": "stdout",
          "text": [
            "Escribe el sueldo: 825\n",
            "948.75\n"
          ]
        }
      ]
    },
    {
      "cell_type": "markdown",
      "metadata": {
        "id": "dm2i6lWDIlrB"
      },
      "source": [
        "### ***18/11/21***"
      ]
    },
    {
      "cell_type": "code",
      "metadata": {
        "colab": {
          "base_uri": "https://localhost:8080/"
        },
        "id": "3Ixd3uHfIu2y",
        "outputId": "ebbee9e8-b86a-43c8-e27b-1b9f7e1650e1"
      },
      "source": [
        "edad = int(input(\"Dame tu edad: \"))\n",
        "dinero = float(input(\"¿Cuánto dinero tienes? \"))\n",
        "\n",
        "print(f\"Tienes {edad} años y {dinero} pesos\")\n",
        "\n",
        "if edad >= 18 and dinero >= 36:\n",
        "    print(\"Eres mayor de edad y tienes el dinero, toma tu cheve bro\")\n",
        "if edad >= 18 and dinero < 36:\n",
        "    print(\"Eres mayor de edad pero no te alcanza pa la cheve\")\n",
        "else:\n",
        "    print(\"Eres menor de edad, ten tu boing\")"
      ],
      "execution_count": null,
      "outputs": [
        {
          "output_type": "stream",
          "name": "stdout",
          "text": [
            "Dame tu edad: 15\n",
            "¿Cuánto dinero tienes? 40\n",
            "Tienes 15 años y 40.0 pesos\n",
            "Eres menor de edad, ten tu boing\n"
          ]
        }
      ]
    },
    {
      "cell_type": "code",
      "metadata": {
        "colab": {
          "base_uri": "https://localhost:8080/"
        },
        "id": "zqbbTWcDNT3z",
        "outputId": "e2877e01-d5c2-45b4-a72c-1807987dbf51"
      },
      "source": [
        "edad = int(input(\"Dame tu edad: \"))\n",
        "dinero = float(input(\"Cuanto dinero tienes: \"))\n",
        "print(f\"Tecleaste {edad} años\")\n",
        "print(f\"Tecleaste {dinero} dinero\")\n",
        "if edad >= 18 :\n",
        "    if dinero >=36 :\n",
        "        print(\"Ten tu cheve\")\n",
        "    else:\n",
        "        print(\"tienes la edad pero no tienes dinero suficiente\")\n",
        "elif dinero >= 36 :\n",
        "    print(\"Tienes dinero suficiente pero no tienes la edad\")\n",
        "else:\n",
        "    print(\"No tienes la edad ni el dinero, ve a jugar roblox a tu casa\")"
      ],
      "execution_count": null,
      "outputs": [
        {
          "output_type": "stream",
          "name": "stdout",
          "text": [
            "Dame tu edad: 12\n",
            "Cuanto dinero tienes: 20\n",
            "Tecleaste 12 años\n",
            "Tecleaste 20.0 dinero\n",
            "No tienes la edad ni el dinero, ve a jugar roblox a tu casa\n"
          ]
        }
      ]
    },
    {
      "cell_type": "code",
      "metadata": {
        "colab": {
          "base_uri": "https://localhost:8080/"
        },
        "id": "fUXR27YiPDEq",
        "outputId": "c501474f-9332-4eca-909c-e91cc806e7b6"
      },
      "source": [
        "CAL= float(input(\"Escribe tu calificiación: \"))\n",
        "if CAL >= 8 :\n",
        "    print(\"Aprobado\")\n",
        "else: \n",
        "    print(\"Reprobado\")"
      ],
      "execution_count": null,
      "outputs": [
        {
          "output_type": "stream",
          "name": "stdout",
          "text": [
            "Escribe tu calificiación: 7\n",
            "Reprobado\n"
          ]
        }
      ]
    },
    {
      "cell_type": "code",
      "metadata": {
        "colab": {
          "base_uri": "https://localhost:8080/"
        },
        "id": "8dMwDjHDPllb",
        "outputId": "40d87b3d-23a7-413e-ece2-5f7412bec3a5"
      },
      "source": [
        "SUE = float(input(\"Escribe el sueldo: \"))\n",
        "AUM = 0 \n",
        "NSUE = 0\n",
        "\n",
        "if SUE < 1000 :\n",
        "    AUM = SUE* 0.15\n",
        "    NSUE = SUE + AUM\n",
        "else:\n",
        "    AUM= SUE*0.12\n",
        "    NSUE = SUE + AUM\n",
        "print(NSUE)"
      ],
      "execution_count": null,
      "outputs": [
        {
          "output_type": "stream",
          "name": "stdout",
          "text": [
            "Escribe el sueldo: 1000\n",
            "1120.0\n"
          ]
        }
      ]
    },
    {
      "cell_type": "code",
      "metadata": {
        "colab": {
          "base_uri": "https://localhost:8080/"
        },
        "id": "QNugfHdgUxRy",
        "outputId": "617fcbd9-8a77-4259-970c-8d209635b35e"
      },
      "source": [
        "numero = int(input(\"Dame un valor del 1 al 7: \"))\n",
        "if numero == 1:\n",
        "    print(\"Hoy es lunes\")\n",
        "elif numero == 2:\n",
        "    print(\"Hoy es Martes\")\n",
        "elif numero == 3:\n",
        "    print(\"Hoy es Miercoles\")\n",
        "elif numero == 4:\n",
        "    print(\"Hoy es Jueves\")\n",
        "elif numero == 5:\n",
        "    print(\"Hoy es viernes\")\n",
        "elif numero == 6:\n",
        "    print(\"Hoy es Sabado\")\n",
        "elif numero == 7:\n",
        "    print(\"Hoy es Domingo\")\n",
        "else:\n",
        "    print(\"el valor no está en el parametro\")"
      ],
      "execution_count": null,
      "outputs": [
        {
          "output_type": "stream",
          "name": "stdout",
          "text": [
            "Dame un valor del 1 al 7: 7\n",
            "Hoy es Domingo\n"
          ]
        }
      ]
    },
    {
      "cell_type": "code",
      "metadata": {
        "colab": {
          "base_uri": "https://localhost:8080/"
        },
        "id": "BJ5fYoRMXIFd",
        "outputId": "6a36ab23-d152-47db-ff0b-387c0ac508fe"
      },
      "source": [
        "dia = int( input(\"Ingresa un numero entre 1 y 7:\"))\n",
        "print(f\"Capturaste el numero { dia }\")\n",
        " \n",
        "if dia >=1 and dia <= 7:\n",
        "    if dia == 1:\n",
        "        print(\"Lunes\")\n",
        "    else:\n",
        "        if dia == 2:\n",
        "            print(\"Martes\")\n",
        "        else:\n",
        "            if dia == 3:\n",
        "                print(\"Miércoles\")\n",
        "            else:\n",
        "                if dia == 4:\n",
        "                    print(\"Jueves\")\n",
        "                else:\n",
        "                    if dia == 5:\n",
        "                        print(\"Viernes\")\n",
        "                    else:\n",
        "                        if dia == 6:\n",
        "                            print(\"Sábado\")\n",
        "                        else:\n",
        "                            print(\"Domingo\")\n",
        " \n",
        "else:\n",
        "    print(\"Ese numero no esta dentro del rango solicitado\")"
      ],
      "execution_count": null,
      "outputs": [
        {
          "output_type": "stream",
          "name": "stdout",
          "text": [
            "Ingresa un numero entre 1 y 7:8\n",
            "Capturaste el numero 8\n",
            "Ese numero no esta dentro del rango solicitado\n"
          ]
        }
      ]
    },
    {
      "cell_type": "code",
      "metadata": {
        "colab": {
          "base_uri": "https://localhost:8080/"
        },
        "id": "khbolYAzeOr2",
        "outputId": "6efb0fa6-b5e0-4176-8d28-107813f88eba"
      },
      "source": [
        "NUM = int(input(\"Dame un numero entre 1 y 3:\"))\n",
        "V = float(input(\"Dame un valor float:\"))\n",
        "VAL = 0\n",
        "if NUM == 1:\n",
        "    VAL = 100 * V\n",
        "elif NUM == 2:\n",
        "    VAL = 100 ** V\n",
        "elif NUM == 3 :\n",
        "    VAL =100/V\n",
        "else:\n",
        "    VAL = 0\n",
        " \n",
        "print(VAL)"
      ],
      "execution_count": 1,
      "outputs": [
        {
          "output_type": "stream",
          "name": "stdout",
          "text": [
            "Dame un numero entre 1 y 3:2\n",
            "Dame un valor float:2\n",
            "10000.0\n"
          ]
        }
      ]
    },
    {
      "cell_type": "markdown",
      "metadata": {
        "id": "KL-__oir6n30"
      },
      "source": [
        "### ***23/11/21***\n"
      ]
    },
    {
      "cell_type": "code",
      "metadata": {
        "colab": {
          "base_uri": "https://localhost:8080/"
        },
        "id": "rDmAMvVN4OHE",
        "outputId": "a4f043c4-30bb-4e19-e0e6-6d15f8447e99"
      },
      "source": [
        "CATE = int(input(\"Introduce la categoria: \")) \n",
        "SUE = float(input(\"Introduce el sueldo: \"))\n",
        "\n",
        "if CATE == 1:\n",
        "    SUE = SUE * 1.15; \n",
        "elif CATE == 2:\n",
        "    SUE = SUE * 1.10; \n",
        "elif CATE == 3:\n",
        "    SUE = SUE * 1.08; \n",
        "elif CATE == 4:\n",
        "    SUE = SUE * 1.07;  \n",
        "\n",
        "print(f\"Categoria= { CATE }, Sueldo= { SUE}\")"
      ],
      "execution_count": 3,
      "outputs": [
        {
          "output_type": "stream",
          "name": "stdout",
          "text": [
            "Introduce la categoria: 3\n",
            "Introduce el sueldo: 3800\n",
            "Categoria= 3, Sueldo= 4104.0\n"
          ]
        }
      ]
    },
    {
      "cell_type": "code",
      "metadata": {
        "colab": {
          "base_uri": "https://localhost:8080/"
        },
        "id": "_Pv5d0pQ7adN",
        "outputId": "2a92eae4-a1ba-4879-91dc-4e53400f1f2a"
      },
      "source": [
        "a=int(input(\"Dame un valor: \"))\n",
        "b=int(input(\"Dame otro valor: \"))\n",
        "c=int(input(\"Dame otro valor: \"))\n",
        "if a>b:\n",
        "    if a>c:\n",
        "        if b>c:\n",
        "            print(f\"{a}, {b}, {c}\")\n",
        "        else:\n",
        "            print(f\"{a}, {c}, {b}\")\n",
        "    else:\n",
        "        print(f\"{c}, {a}, {b}\")\n",
        "else:\n",
        "    if b>c:\n",
        "        if a>c:\n",
        "            print(f\"{b}, {a}, {c}\")\n",
        "        else:\n",
        "            print(f\"{b}, {c}, {a}\")\n",
        "    else:\n",
        "        print(f\"{c}, {b}, {a}\")"
      ],
      "execution_count": 7,
      "outputs": [
        {
          "output_type": "stream",
          "name": "stdout",
          "text": [
            "Dame un valor: 9\n",
            "Dame otro valor: 1\n",
            "Dame otro valor: 3\n",
            "9, 3, 1\n"
          ]
        }
      ]
    }
  ]
}