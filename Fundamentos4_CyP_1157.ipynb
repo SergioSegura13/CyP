{
  "nbformat": 4,
  "nbformat_minor": 0,
  "metadata": {
    "colab": {
      "name": "Fundamentos4_CyP_1157.ipynb",
      "provenance": [],
      "authorship_tag": "ABX9TyOhuwMaF7wk3+whXaIcWan0",
      "include_colab_link": true
    },
    "kernelspec": {
      "name": "python3",
      "display_name": "Python 3"
    },
    "language_info": {
      "name": "python"
    }
  },
  "cells": [
    {
      "cell_type": "markdown",
      "metadata": {
        "id": "view-in-github",
        "colab_type": "text"
      },
      "source": [
        "<a href=\"https://colab.research.google.com/github/SergioSegura13/CyP/blob/main/Fundamentos4_CyP_1157.ipynb\" target=\"_parent\"><img src=\"https://colab.research.google.com/assets/colab-badge.svg\" alt=\"Open In Colab\"/></a>"
      ]
    },
    {
      "cell_type": "markdown",
      "metadata": {
        "id": "NYgAkA3WUHax"
      },
      "source": [
        "### **02/11/21**"
      ]
    },
    {
      "cell_type": "code",
      "metadata": {
        "id": "_hh4J4LMUXSA"
      },
      "source": [
        "#include <stdio.h>\n",
        "\n",
        "int main()\n",
        "{\n",
        "    int valor = 0;\n",
        "    printf(\"Dame un valor entero:\");\n",
        "    scanf(\"%i\",&valor);\n",
        "    while( valor != 0){\n",
        "        printf(\"%i \\n\",valor);\n",
        "        printf(\"Dame un valor entero:\");\n",
        "        scanf(\"%i\",&valor);\n",
        "    }\n",
        "    printf(\"Fin del programa\\n\");\n",
        "    return 0;\n",
        "}"
      ],
      "execution_count": null,
      "outputs": []
    },
    {
      "cell_type": "code",
      "metadata": {
        "id": "oca92U9pUYAA"
      },
      "source": [
        "def sumar (op1 , op2):\n",
        "    res = op1 + op2\n",
        "    return res"
      ],
      "execution_count": 2,
      "outputs": []
    },
    {
      "cell_type": "code",
      "metadata": {
        "colab": {
          "base_uri": "https://localhost:8080/"
        },
        "id": "cCgFnzj_YSwW",
        "outputId": "6ce83047-b850-4c40-86e0-00aa46a98f84"
      },
      "source": [
        "res = sumar( 2, 5)\n",
        "print(res)"
      ],
      "execution_count": 3,
      "outputs": [
        {
          "output_type": "stream",
          "name": "stdout",
          "text": [
            "7\n"
          ]
        }
      ]
    },
    {
      "cell_type": "code",
      "metadata": {
        "colab": {
          "base_uri": "https://localhost:8080/"
        },
        "id": "4qmbLVq6eNIk",
        "outputId": "3a7baae8-d844-4be2-a981-c6c73e88e57e"
      },
      "source": [
        "res = multiplicar(5,5)\n",
        "print(res)"
      ],
      "execution_count": 5,
      "outputs": [
        {
          "output_type": "stream",
          "name": "stdout",
          "text": [
            "25\n"
          ]
        }
      ]
    },
    {
      "cell_type": "code",
      "metadata": {
        "id": "On0SOfq1eASd"
      },
      "source": [
        "def multiplicar( valor, veces):\n",
        "    if valor == None:\n",
        "        c=-1\n",
        "    else:\n",
        "            c = valor*veces\n",
        "            return c"
      ],
      "execution_count": 11,
      "outputs": []
    },
    {
      "cell_type": "code",
      "metadata": {
        "id": "uvSO3VKijqJ2"
      },
      "source": [
        "def dividir(op1, op2):\n",
        "    res = op1/op2\n",
        "    return res\n"
      ],
      "execution_count": 24,
      "outputs": []
    },
    {
      "cell_type": "code",
      "metadata": {
        "colab": {
          "base_uri": "https://localhost:8080/"
        },
        "id": "_lnUAC4ak9Qf",
        "outputId": "1d587a60-342f-45a4-f411-014f7e4bd227"
      },
      "source": [
        "num1=25\n",
        "num2=5\n",
        "res= dividir(num1, num2)\n",
        "print(res)\n",
        "res= dividir(num2, num1)\n",
        "print(res)"
      ],
      "execution_count": 25,
      "outputs": [
        {
          "output_type": "stream",
          "name": "stdout",
          "text": [
            "5.0\n",
            "0.2\n"
          ]
        }
      ]
    },
    {
      "cell_type": "code",
      "metadata": {
        "colab": {
          "base_uri": "https://localhost:8080/"
        },
        "id": "j957T8VFlRsA",
        "outputId": "e5d51619-6226-4f8b-a2c4-ba176218384e"
      },
      "source": [
        "res= dividir(op2=num2, op1=num1)\n",
        "print(res)"
      ],
      "execution_count": 26,
      "outputs": [
        {
          "output_type": "stream",
          "name": "stdout",
          "text": [
            "5.0\n"
          ]
        }
      ]
    }
  ]
}