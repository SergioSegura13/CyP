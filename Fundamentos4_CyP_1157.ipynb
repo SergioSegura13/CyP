{
  "nbformat": 4,
  "nbformat_minor": 0,
  "metadata": {
    "colab": {
      "name": "Fundamentos4_CyP_1157.ipynb",
      "provenance": [],
      "authorship_tag": "ABX9TyNlgiGNaD2KNQeDltRLF4uo",
      "include_colab_link": true
    },
    "kernelspec": {
      "name": "python3",
      "display_name": "Python 3"
    },
    "language_info": {
      "name": "python"
    }
  },
  "cells": [
    {
      "cell_type": "markdown",
      "metadata": {
        "id": "view-in-github",
        "colab_type": "text"
      },
      "source": [
        "<a href=\"https://colab.research.google.com/github/SergioSegura13/CyP/blob/main/Fundamentos4_CyP_1157.ipynb\" target=\"_parent\"><img src=\"https://colab.research.google.com/assets/colab-badge.svg\" alt=\"Open In Colab\"/></a>"
      ]
    },
    {
      "cell_type": "markdown",
      "metadata": {
        "id": "NYgAkA3WUHax"
      },
      "source": [
        "### **02/11/21**"
      ]
    },
    {
      "cell_type": "code",
      "metadata": {
        "id": "_hh4J4LMUXSA"
      },
      "source": [
        "#include <stdio.h>\n",
        "\n",
        "int main()\n",
        "{\n",
        "    int valor = 0;\n",
        "    printf(\"Dame un valor entero:\");\n",
        "    scanf(\"%i\",&valor);\n",
        "    while( valor != 0){\n",
        "        printf(\"%i \\n\",valor);\n",
        "        printf(\"Dame un valor entero:\");\n",
        "        scanf(\"%i\",&valor);\n",
        "    }\n",
        "    printf(\"Fin del programa\\n\");\n",
        "    return 0;\n",
        "}"
      ],
      "execution_count": null,
      "outputs": []
    },
    {
      "cell_type": "code",
      "metadata": {
        "id": "oca92U9pUYAA"
      },
      "source": [
        "def sumar (op1 , op2):\n",
        "    res = op1 + op2\n",
        "    return res"
      ],
      "execution_count": null,
      "outputs": []
    },
    {
      "cell_type": "code",
      "metadata": {
        "colab": {
          "base_uri": "https://localhost:8080/"
        },
        "id": "cCgFnzj_YSwW",
        "outputId": "6ce83047-b850-4c40-86e0-00aa46a98f84"
      },
      "source": [
        "res = sumar( 2, 5)\n",
        "print(res)"
      ],
      "execution_count": null,
      "outputs": [
        {
          "output_type": "stream",
          "name": "stdout",
          "text": [
            "7\n"
          ]
        }
      ]
    },
    {
      "cell_type": "code",
      "metadata": {
        "colab": {
          "base_uri": "https://localhost:8080/"
        },
        "id": "4qmbLVq6eNIk",
        "outputId": "3a7baae8-d844-4be2-a981-c6c73e88e57e"
      },
      "source": [
        "res = multiplicar(5,5)\n",
        "print(res)"
      ],
      "execution_count": null,
      "outputs": [
        {
          "output_type": "stream",
          "name": "stdout",
          "text": [
            "25\n"
          ]
        }
      ]
    },
    {
      "cell_type": "code",
      "metadata": {
        "id": "On0SOfq1eASd"
      },
      "source": [
        "def multiplicar( valor, veces):\n",
        "    if valor == None:\n",
        "        c=-1\n",
        "    else:\n",
        "            c = valor*veces\n",
        "            return c"
      ],
      "execution_count": null,
      "outputs": []
    },
    {
      "cell_type": "code",
      "metadata": {
        "id": "uvSO3VKijqJ2"
      },
      "source": [
        "def dividir(op1, op2):\n",
        "    res = op1/op2\n",
        "    return res\n"
      ],
      "execution_count": null,
      "outputs": []
    },
    {
      "cell_type": "code",
      "metadata": {
        "colab": {
          "base_uri": "https://localhost:8080/"
        },
        "id": "_lnUAC4ak9Qf",
        "outputId": "1d587a60-342f-45a4-f411-014f7e4bd227"
      },
      "source": [
        "num1=25\n",
        "num2=5\n",
        "res= dividir(num1, num2)\n",
        "print(res)\n",
        "res= dividir(num2, num1)\n",
        "print(res)"
      ],
      "execution_count": null,
      "outputs": [
        {
          "output_type": "stream",
          "name": "stdout",
          "text": [
            "5.0\n",
            "0.2\n"
          ]
        }
      ]
    },
    {
      "cell_type": "code",
      "metadata": {
        "colab": {
          "base_uri": "https://localhost:8080/"
        },
        "id": "j957T8VFlRsA",
        "outputId": "e5d51619-6226-4f8b-a2c4-ba176218384e"
      },
      "source": [
        "res= dividir(op2=num2, op1=num1)\n",
        "print(res)"
      ],
      "execution_count": null,
      "outputs": [
        {
          "output_type": "stream",
          "name": "stdout",
          "text": [
            "5.0\n"
          ]
        }
      ]
    },
    {
      "cell_type": "code",
      "metadata": {
        "id": "yutoIm1yl6R3"
      },
      "source": [
        "def Letra_J(caracter):\n",
        "    print(f\"     {caracter}\")\n",
        "    print(f\"     {caracter}\")\n",
        "    print(f\"{caracter}    {caracter}\")\n",
        "    print(f\"{caracter}{caracter}{caracter}{caracter}{caracter}\")"
      ],
      "execution_count": null,
      "outputs": []
    },
    {
      "cell_type": "code",
      "metadata": {
        "colab": {
          "base_uri": "https://localhost:8080/"
        },
        "id": "6hBlIc-TngHH",
        "outputId": "a21edac0-d1fd-4e98-b020-461942b28a83"
      },
      "source": [
        "Letra_J(\"?\")"
      ],
      "execution_count": null,
      "outputs": [
        {
          "output_type": "stream",
          "name": "stdout",
          "text": [
            "     ?\n",
            "     ?\n",
            "?    ?\n",
            "?????\n"
          ]
        }
      ]
    },
    {
      "cell_type": "markdown",
      "source": [
        "### **09/12/21**"
      ],
      "metadata": {
        "id": "KuMum0vZZJnE"
      }
    },
    {
      "cell_type": "code",
      "source": [
        "archivo = open(\"ejemplo1.txt\", \"wt\")\n",
        "\n",
        "for x in range( 10 ):\n",
        "    if x % 2 == 0:\n",
        "        archivo.write(\"HOLA MUNDO \" + str(x) + \"\\n\")\n",
        "    else:\n",
        "        archivo.write(\"Hola mundo \" + str(x) + \"\\n\")\n",
        "\n",
        "\n",
        "cont = archivo.write(\"Otra cosa\")\n",
        "archivo.close()\n",
        "\n",
        "\n",
        "# print(\"escritos: \", cont)\n",
        "\n",
        "\n",
        "archivo1 = open(\"ejemplo1.txt\", \"rt\")\n",
        "datos = archivo1.read()\n",
        "\n",
        "print(\"--> \",datos,\" <--\")\n"
      ],
      "metadata": {
        "colab": {
          "base_uri": "https://localhost:8080/"
        },
        "id": "CLduxUU3ZLD0",
        "outputId": "feabcac1-2298-4638-d9be-9a8b4a044d8a"
      },
      "execution_count": 7,
      "outputs": [
        {
          "output_type": "stream",
          "name": "stdout",
          "text": [
            "-->  HOLA MUNDO 0\n",
            "Hola mundo 1\n",
            "HOLA MUNDO 2\n",
            "Hola mundo 3\n",
            "HOLA MUNDO 4\n",
            "Hola mundo 5\n",
            "HOLA MUNDO 6\n",
            "Hola mundo 7\n",
            "HOLA MUNDO 8\n",
            "Hola mundo 9\n",
            "Otra cosa  <--\n"
          ]
        }
      ]
    },
    {
      "cell_type": "code",
      "source": [
        "archivo = open(\"ejemplo1.txt\", \"wt\")\n",
        "datos = archivo1.read()\n",
        "separados = datos.split(\"\\n\")\n",
        "print(separados)\n",
        "\n",
        "for index in range( len(separados) ):\n",
        "    if index % 2 == 0:\n",
        "        print(separados[index].upper())\n",
        "    else:\n",
        "        print(separado[index].lower())\n",
        "\n",
        "print(\"-->\" + datos + \"<--\")"
      ],
      "metadata": {
        "colab": {
          "base_uri": "https://localhost:8080/"
        },
        "id": "E256cGJKZIb9",
        "outputId": "bef53c64-4cae-4cfd-a1f0-be7f329e4377"
      },
      "execution_count": 9,
      "outputs": [
        {
          "output_type": "stream",
          "name": "stdout",
          "text": [
            "['']\n",
            "\n",
            "--><--\n"
          ]
        }
      ]
    },
    {
      "cell_type": "code",
      "source": [
        "archivo2 = open(\"ejemplo1.txt\",\"rt\")\n",
        "for x in range(11):\n",
        "    if x%2 == 0:\n",
        "        print( archivo2.readline().upper() ,end=\"\"  )\n",
        "    else:\n",
        "        print( archivo2.readline().lower() ,end=\"\" )"
      ],
      "metadata": {
        "id": "0_0m0nsJZxdM"
      },
      "execution_count": 12,
      "outputs": []
    },
    {
      "cell_type": "code",
      "source": [
        "archivo4 = open(\"ejemplo1.txt\", \"rt\")\n",
        "lineas = archivo4.readlines()\n",
        "print(lineas)\n",
        "for linea in lineas[: len(lineas)-1:]:\n",
        "    for numero in linea.strip().split(\",\"):\n",
        "        print(numero.strip())"
      ],
      "metadata": {
        "colab": {
          "base_uri": "https://localhost:8080/"
        },
        "id": "5C5QDmmXnw0v",
        "outputId": "f5886864-5321-4efb-e5c3-0868c14e16c5"
      },
      "execution_count": 13,
      "outputs": [
        {
          "output_type": "stream",
          "name": "stdout",
          "text": [
            "[]\n"
          ]
        }
      ]
    }
  ]
}